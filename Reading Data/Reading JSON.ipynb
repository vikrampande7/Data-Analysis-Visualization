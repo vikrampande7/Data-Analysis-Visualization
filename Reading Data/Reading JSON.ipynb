{
 "cells": [
  {
   "cell_type": "code",
   "execution_count": 1,
   "id": "20409bdd",
   "metadata": {},
   "outputs": [],
   "source": [
    "import numpy as np\n",
    "import pandas as pd\n",
    "from pandas import Series, DataFrame"
   ]
  },
  {
   "cell_type": "code",
   "execution_count": 4,
   "id": "2c7b1330",
   "metadata": {},
   "outputs": [],
   "source": [
    "JSON_obj = \"\"\"{\"menu\": {  \n",
    "  \"id\": \"file\",  \n",
    "  \"value\": \"File\",  \n",
    "  \"popup\": {  \n",
    "    \"menuitem\": [  \n",
    "      {\"value\": \"New\", \"onclick\": \"CreateDoc()\"},  \n",
    "      {\"value\": \"Open\", \"onclick\": \"OpenDoc()\"},  \n",
    "      {\"value\": \"Save\", \"onclick\": \"SaveDoc()\"}  \n",
    "    ]  \n",
    "  }  \n",
    "}}  \"\"\""
   ]
  },
  {
   "cell_type": "code",
   "execution_count": 5,
   "id": "1f81ded9",
   "metadata": {},
   "outputs": [
    {
     "data": {
      "text/plain": [
       "'{\"menu\": {  \\n  \"id\": \"file\",  \\n  \"value\": \"File\",  \\n  \"popup\": {  \\n    \"menuitem\": [  \\n      {\"value\": \"New\", \"onclick\": \"CreateDoc()\"},  \\n      {\"value\": \"Open\", \"onclick\": \"OpenDoc()\"},  \\n      {\"value\": \"Save\", \"onclick\": \"SaveDoc()\"}  \\n    ]  \\n  }  \\n}}  '"
      ]
     },
     "execution_count": 5,
     "metadata": {},
     "output_type": "execute_result"
    }
   ],
   "source": [
    "JSON_obj"
   ]
  },
  {
   "cell_type": "code",
   "execution_count": 6,
   "id": "8f181e93",
   "metadata": {},
   "outputs": [],
   "source": [
    "import json"
   ]
  },
  {
   "cell_type": "code",
   "execution_count": 7,
   "id": "94c464ed",
   "metadata": {},
   "outputs": [],
   "source": [
    "data = json.loads(JSON_obj)"
   ]
  },
  {
   "cell_type": "code",
   "execution_count": 8,
   "id": "044636d4",
   "metadata": {},
   "outputs": [
    {
     "data": {
      "text/plain": [
       "{'menu': {'id': 'file',\n",
       "  'value': 'File',\n",
       "  'popup': {'menuitem': [{'value': 'New', 'onclick': 'CreateDoc()'},\n",
       "    {'value': 'Open', 'onclick': 'OpenDoc()'},\n",
       "    {'value': 'Save', 'onclick': 'SaveDoc()'}]}}}"
      ]
     },
     "execution_count": 8,
     "metadata": {},
     "output_type": "execute_result"
    }
   ],
   "source": [
    "data"
   ]
  },
  {
   "cell_type": "code",
   "execution_count": 9,
   "id": "0dd7bb2c",
   "metadata": {},
   "outputs": [
    {
     "data": {
      "text/plain": [
       "'{\"menu\": {\"id\": \"file\", \"value\": \"File\", \"popup\": {\"menuitem\": [{\"value\": \"New\", \"onclick\": \"CreateDoc()\"}, {\"value\": \"Open\", \"onclick\": \"OpenDoc()\"}, {\"value\": \"Save\", \"onclick\": \"SaveDoc()\"}]}}}'"
      ]
     },
     "execution_count": 9,
     "metadata": {},
     "output_type": "execute_result"
    }
   ],
   "source": [
    "json.dumps(data)"
   ]
  },
  {
   "cell_type": "code",
   "execution_count": null,
   "id": "ae03e80f",
   "metadata": {},
   "outputs": [],
   "source": []
  }
 ],
 "metadata": {
  "kernelspec": {
   "display_name": "Python 3",
   "language": "python",
   "name": "python3"
  },
  "language_info": {
   "codemirror_mode": {
    "name": "ipython",
    "version": 3
   },
   "file_extension": ".py",
   "mimetype": "text/x-python",
   "name": "python",
   "nbconvert_exporter": "python",
   "pygments_lexer": "ipython3",
   "version": "3.8.8"
  }
 },
 "nbformat": 4,
 "nbformat_minor": 5
}
